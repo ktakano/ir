{
  "nbformat": 4,
  "nbformat_minor": 0,
  "metadata": {
    "colab": {
      "name": "mecab.ipynb",
      "provenance": []
    },
    "kernelspec": {
      "name": "python3",
      "display_name": "Python 3"
    },
    "language_info": {
      "name": "python"
    }
  },
  "cells": [
    {
      "cell_type": "markdown",
      "source": [
        "## 環境構築\n",
        "必要なソフトウェアやモジュールをインストールする。"
      ],
      "metadata": {
        "id": "CHkpb6CWE6jw"
      }
    },
    {
      "cell_type": "code",
      "execution_count": null,
      "metadata": {
        "id": "ptLiFZDFCIlL"
      },
      "outputs": [],
      "source": [
        "!sudo apt-get install mecab mecab-ipadic-utf8 libmecab-dev swig"
      ]
    },
    {
      "cell_type": "code",
      "source": [
        "!pip install mecab-python3"
      ],
      "metadata": {
        "id": "j0Q6BYA1CUpj"
      },
      "execution_count": null,
      "outputs": []
    },
    {
      "cell_type": "markdown",
      "source": [
        "エラーが出るためシンボリックリンクを作成しておく。"
      ],
      "metadata": {
        "id": "ovFP23LMEy2C"
      }
    },
    {
      "cell_type": "code",
      "source": [
        "!ln -s /etc/mecabrc /usr/local/etc/mecabrc"
      ],
      "metadata": {
        "id": "HPn_rG-mET9e"
      },
      "execution_count": null,
      "outputs": []
    },
    {
      "cell_type": "markdown",
      "source": [
        "## MeCabの実行"
      ],
      "metadata": {
        "id": "VnqGf6M1FMay"
      }
    },
    {
      "cell_type": "code",
      "source": [
        "import MeCab\n",
        "mecab = MeCab.Tagger(\"-Ochasen\")\n",
        "print(mecab.parse(\"今日は朝から授業があります。\"))"
      ],
      "metadata": {
        "colab": {
          "base_uri": "https://localhost:8080/"
        },
        "id": "OBqAUr7BCcrN",
        "outputId": "40115126-8527-4b65-a5bf-72e60a102691"
      },
      "execution_count": 17,
      "outputs": [
        {
          "output_type": "stream",
          "name": "stdout",
          "text": [
            "今日\tキョウ\t今日\t名詞-副詞可能\t\t\n",
            "は\tハ\tは\t助詞-係助詞\t\t\n",
            "朝\tアサ\t朝\t名詞-副詞可能\t\t\n",
            "から\tカラ\tから\t助詞-格助詞-一般\t\t\n",
            "授業\tジュギョウ\t授業\t名詞-サ変接続\t\t\n",
            "が\tガ\tが\t助詞-格助詞-一般\t\t\n",
            "あり\tアリ\tある\t動詞-自立\t五段・ラ行\t連用形\n",
            "ます\tマス\tます\t助動詞\t特殊・マス\t基本形\n",
            "。\t。\t。\t記号-句点\t\t\n",
            "EOS\n",
            "\n"
          ]
        }
      ]
    },
    {
      "cell_type": "markdown",
      "source": [
        "##参考\n",
        "\n",
        "下記のコマンドで、設定ファイルmecabrcがインストールされている場所を調べることができる。"
      ],
      "metadata": {
        "id": "CO7zvagIErlZ"
      }
    },
    {
      "cell_type": "code",
      "source": [
        "!sudo find / -iname mecabrc"
      ],
      "metadata": {
        "colab": {
          "base_uri": "https://localhost:8080/"
        },
        "id": "IknOo-ytEDEp",
        "outputId": "8bc5537c-e03d-4623-b8bb-cfbd7f800a16"
      },
      "execution_count": 11,
      "outputs": [
        {
          "output_type": "stream",
          "name": "stdout",
          "text": [
            "find: ‘/proc/28/task/28/net’: Invalid argument\n",
            "find: ‘/proc/28/net’: Invalid argument\n",
            "/etc/mecabrc\n"
          ]
        }
      ]
    }
  ]
}