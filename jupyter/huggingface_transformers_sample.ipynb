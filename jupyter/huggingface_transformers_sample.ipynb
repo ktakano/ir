{
  "nbformat": 4,
  "nbformat_minor": 0,
  "metadata": {
    "colab": {
      "name": "huggingface_transformers_sample.ipynb",
      "provenance": []
    },
    "kernelspec": {
      "name": "python3",
      "display_name": "Python 3"
    },
    "language_info": {
      "name": "python"
    },
    "widgets": {
      "application/vnd.jupyter.widget-state+json": {
        "990de7d61d434064aa860b67eeddd26d": {
          "model_module": "@jupyter-widgets/controls",
          "model_name": "HBoxModel",
          "model_module_version": "1.5.0",
          "state": {
            "_dom_classes": [],
            "_model_module": "@jupyter-widgets/controls",
            "_model_module_version": "1.5.0",
            "_model_name": "HBoxModel",
            "_view_count": null,
            "_view_module": "@jupyter-widgets/controls",
            "_view_module_version": "1.5.0",
            "_view_name": "HBoxView",
            "box_style": "",
            "children": [
              "IPY_MODEL_b195b2649c7549b988104f779b3d4165",
              "IPY_MODEL_ec47392bfba44e46a17ac8cd575e8706",
              "IPY_MODEL_751fbcc9706a42b1ae0133dd54eaad80"
            ],
            "layout": "IPY_MODEL_3becd02a1cbc494f9d862d0e8e68f15b"
          }
        },
        "b195b2649c7549b988104f779b3d4165": {
          "model_module": "@jupyter-widgets/controls",
          "model_name": "HTMLModel",
          "model_module_version": "1.5.0",
          "state": {
            "_dom_classes": [],
            "_model_module": "@jupyter-widgets/controls",
            "_model_module_version": "1.5.0",
            "_model_name": "HTMLModel",
            "_view_count": null,
            "_view_module": "@jupyter-widgets/controls",
            "_view_module_version": "1.5.0",
            "_view_name": "HTMLView",
            "description": "",
            "description_tooltip": null,
            "layout": "IPY_MODEL_a9ea20697f6d4edb90d1ccf89724d25c",
            "placeholder": "​",
            "style": "IPY_MODEL_f49e75448176490b9f56d88e8f90f324",
            "value": "Downloading: 100%"
          }
        },
        "ec47392bfba44e46a17ac8cd575e8706": {
          "model_module": "@jupyter-widgets/controls",
          "model_name": "FloatProgressModel",
          "model_module_version": "1.5.0",
          "state": {
            "_dom_classes": [],
            "_model_module": "@jupyter-widgets/controls",
            "_model_module_version": "1.5.0",
            "_model_name": "FloatProgressModel",
            "_view_count": null,
            "_view_module": "@jupyter-widgets/controls",
            "_view_module_version": "1.5.0",
            "_view_name": "ProgressView",
            "bar_style": "success",
            "description": "",
            "description_tooltip": null,
            "layout": "IPY_MODEL_01bb125d37624eac8db38ed0ac4f79a8",
            "max": 1013,
            "min": 0,
            "orientation": "horizontal",
            "style": "IPY_MODEL_fb007dc0de1b48be86464c14d3aee63d",
            "value": 1013
          }
        },
        "751fbcc9706a42b1ae0133dd54eaad80": {
          "model_module": "@jupyter-widgets/controls",
          "model_name": "HTMLModel",
          "model_module_version": "1.5.0",
          "state": {
            "_dom_classes": [],
            "_model_module": "@jupyter-widgets/controls",
            "_model_module_version": "1.5.0",
            "_model_name": "HTMLModel",
            "_view_count": null,
            "_view_module": "@jupyter-widgets/controls",
            "_view_module_version": "1.5.0",
            "_view_name": "HTMLView",
            "description": "",
            "description_tooltip": null,
            "layout": "IPY_MODEL_326fb71290674e3f8a7bea2947f986b5",
            "placeholder": "​",
            "style": "IPY_MODEL_7d3606664f4b4069aae6cf9bba6bb25d",
            "value": " 0.99k/0.99k [00:00&lt;00:00, 28.2kB/s]"
          }
        },
        "3becd02a1cbc494f9d862d0e8e68f15b": {
          "model_module": "@jupyter-widgets/base",
          "model_name": "LayoutModel",
          "model_module_version": "1.2.0",
          "state": {
            "_model_module": "@jupyter-widgets/base",
            "_model_module_version": "1.2.0",
            "_model_name": "LayoutModel",
            "_view_count": null,
            "_view_module": "@jupyter-widgets/base",
            "_view_module_version": "1.2.0",
            "_view_name": "LayoutView",
            "align_content": null,
            "align_items": null,
            "align_self": null,
            "border": null,
            "bottom": null,
            "display": null,
            "flex": null,
            "flex_flow": null,
            "grid_area": null,
            "grid_auto_columns": null,
            "grid_auto_flow": null,
            "grid_auto_rows": null,
            "grid_column": null,
            "grid_gap": null,
            "grid_row": null,
            "grid_template_areas": null,
            "grid_template_columns": null,
            "grid_template_rows": null,
            "height": null,
            "justify_content": null,
            "justify_items": null,
            "left": null,
            "margin": null,
            "max_height": null,
            "max_width": null,
            "min_height": null,
            "min_width": null,
            "object_fit": null,
            "object_position": null,
            "order": null,
            "overflow": null,
            "overflow_x": null,
            "overflow_y": null,
            "padding": null,
            "right": null,
            "top": null,
            "visibility": null,
            "width": null
          }
        },
        "a9ea20697f6d4edb90d1ccf89724d25c": {
          "model_module": "@jupyter-widgets/base",
          "model_name": "LayoutModel",
          "model_module_version": "1.2.0",
          "state": {
            "_model_module": "@jupyter-widgets/base",
            "_model_module_version": "1.2.0",
            "_model_name": "LayoutModel",
            "_view_count": null,
            "_view_module": "@jupyter-widgets/base",
            "_view_module_version": "1.2.0",
            "_view_name": "LayoutView",
            "align_content": null,
            "align_items": null,
            "align_self": null,
            "border": null,
            "bottom": null,
            "display": null,
            "flex": null,
            "flex_flow": null,
            "grid_area": null,
            "grid_auto_columns": null,
            "grid_auto_flow": null,
            "grid_auto_rows": null,
            "grid_column": null,
            "grid_gap": null,
            "grid_row": null,
            "grid_template_areas": null,
            "grid_template_columns": null,
            "grid_template_rows": null,
            "height": null,
            "justify_content": null,
            "justify_items": null,
            "left": null,
            "margin": null,
            "max_height": null,
            "max_width": null,
            "min_height": null,
            "min_width": null,
            "object_fit": null,
            "object_position": null,
            "order": null,
            "overflow": null,
            "overflow_x": null,
            "overflow_y": null,
            "padding": null,
            "right": null,
            "top": null,
            "visibility": null,
            "width": null
          }
        },
        "f49e75448176490b9f56d88e8f90f324": {
          "model_module": "@jupyter-widgets/controls",
          "model_name": "DescriptionStyleModel",
          "model_module_version": "1.5.0",
          "state": {
            "_model_module": "@jupyter-widgets/controls",
            "_model_module_version": "1.5.0",
            "_model_name": "DescriptionStyleModel",
            "_view_count": null,
            "_view_module": "@jupyter-widgets/base",
            "_view_module_version": "1.2.0",
            "_view_name": "StyleView",
            "description_width": ""
          }
        },
        "01bb125d37624eac8db38ed0ac4f79a8": {
          "model_module": "@jupyter-widgets/base",
          "model_name": "LayoutModel",
          "model_module_version": "1.2.0",
          "state": {
            "_model_module": "@jupyter-widgets/base",
            "_model_module_version": "1.2.0",
            "_model_name": "LayoutModel",
            "_view_count": null,
            "_view_module": "@jupyter-widgets/base",
            "_view_module_version": "1.2.0",
            "_view_name": "LayoutView",
            "align_content": null,
            "align_items": null,
            "align_self": null,
            "border": null,
            "bottom": null,
            "display": null,
            "flex": null,
            "flex_flow": null,
            "grid_area": null,
            "grid_auto_columns": null,
            "grid_auto_flow": null,
            "grid_auto_rows": null,
            "grid_column": null,
            "grid_gap": null,
            "grid_row": null,
            "grid_template_areas": null,
            "grid_template_columns": null,
            "grid_template_rows": null,
            "height": null,
            "justify_content": null,
            "justify_items": null,
            "left": null,
            "margin": null,
            "max_height": null,
            "max_width": null,
            "min_height": null,
            "min_width": null,
            "object_fit": null,
            "object_position": null,
            "order": null,
            "overflow": null,
            "overflow_x": null,
            "overflow_y": null,
            "padding": null,
            "right": null,
            "top": null,
            "visibility": null,
            "width": null
          }
        },
        "fb007dc0de1b48be86464c14d3aee63d": {
          "model_module": "@jupyter-widgets/controls",
          "model_name": "ProgressStyleModel",
          "model_module_version": "1.5.0",
          "state": {
            "_model_module": "@jupyter-widgets/controls",
            "_model_module_version": "1.5.0",
            "_model_name": "ProgressStyleModel",
            "_view_count": null,
            "_view_module": "@jupyter-widgets/base",
            "_view_module_version": "1.2.0",
            "_view_name": "StyleView",
            "bar_color": null,
            "description_width": ""
          }
        },
        "326fb71290674e3f8a7bea2947f986b5": {
          "model_module": "@jupyter-widgets/base",
          "model_name": "LayoutModel",
          "model_module_version": "1.2.0",
          "state": {
            "_model_module": "@jupyter-widgets/base",
            "_model_module_version": "1.2.0",
            "_model_name": "LayoutModel",
            "_view_count": null,
            "_view_module": "@jupyter-widgets/base",
            "_view_module_version": "1.2.0",
            "_view_name": "LayoutView",
            "align_content": null,
            "align_items": null,
            "align_self": null,
            "border": null,
            "bottom": null,
            "display": null,
            "flex": null,
            "flex_flow": null,
            "grid_area": null,
            "grid_auto_columns": null,
            "grid_auto_flow": null,
            "grid_auto_rows": null,
            "grid_column": null,
            "grid_gap": null,
            "grid_row": null,
            "grid_template_areas": null,
            "grid_template_columns": null,
            "grid_template_rows": null,
            "height": null,
            "justify_content": null,
            "justify_items": null,
            "left": null,
            "margin": null,
            "max_height": null,
            "max_width": null,
            "min_height": null,
            "min_width": null,
            "object_fit": null,
            "object_position": null,
            "order": null,
            "overflow": null,
            "overflow_x": null,
            "overflow_y": null,
            "padding": null,
            "right": null,
            "top": null,
            "visibility": null,
            "width": null
          }
        },
        "7d3606664f4b4069aae6cf9bba6bb25d": {
          "model_module": "@jupyter-widgets/controls",
          "model_name": "DescriptionStyleModel",
          "model_module_version": "1.5.0",
          "state": {
            "_model_module": "@jupyter-widgets/controls",
            "_model_module_version": "1.5.0",
            "_model_name": "DescriptionStyleModel",
            "_view_count": null,
            "_view_module": "@jupyter-widgets/base",
            "_view_module_version": "1.2.0",
            "_view_name": "StyleView",
            "description_width": ""
          }
        }
      }
    }
  },
  "cells": [
    {
      "cell_type": "markdown",
      "source": [
        "# HuggingfaceのBERTモデルを利用した感情分析"
      ],
      "metadata": {
        "id": "lr5lWAx0oh2s"
      }
    },
    {
      "cell_type": "markdown",
      "source": [
        "### 必要なモジュールのインストール\n",
        "pytorchとtransformaers[ja]をインストールします。"
      ],
      "metadata": {
        "id": "AwUTiFb4nl85"
      }
    },
    {
      "cell_type": "code",
      "source": [
        "!pip install torch torchvision\n",
        "!pip install transformers[ja]"
      ],
      "metadata": {
        "id": "FC0loHyCncRV"
      },
      "execution_count": null,
      "outputs": []
    },
    {
      "cell_type": "code",
      "execution_count": 3,
      "metadata": {
        "id": "luFvP03KnLQ0"
      },
      "outputs": [],
      "source": [
        "from transformers import pipeline, AutoModelForSequenceClassification, BertJapaneseTokenizer"
      ]
    },
    {
      "cell_type": "markdown",
      "source": [
        "### 日本語文章の感情分析\n",
        "\n",
        "BERTの日本語モデルを利用します。事前学習済(pretrained)のBERTモデルをロードします。\n",
        "\n",
        "\"sentiment-analysis\"は\"text-classification\" の別名で、pipelineとして、\"TextClassificationPipeline\"を返します。\n",
        "\n",
        "https://huggingface.co/docs/transformers/main_classes/pipelines"
      ],
      "metadata": {
        "id": "dxVxkTciqkID"
      }
    },
    {
      "cell_type": "code",
      "source": [
        "bert_model_ja = AutoModelForSequenceClassification.from_pretrained('daigo/bert-base-japanese-sentiment') \n",
        "tokenizer_ja = BertJapaneseTokenizer.from_pretrained('cl-tohoku/bert-base-japanese-whole-word-masking')\n",
        "analyzer_ja = pipeline(\"sentiment-analysis\",model=bert_model_ja,tokenizer=tokenizer_ja)"
      ],
      "metadata": {
        "id": "MZUsPdHZnT_G"
      },
      "execution_count": 12,
      "outputs": []
    },
    {
      "cell_type": "code",
      "source": [
        "print(analyzer_ja(\"今日のセミナーは楽しい\"))\n",
        "print(analyzer_ja(\"先生がいなくて悲しい\"))"
      ],
      "metadata": {
        "colab": {
          "base_uri": "https://localhost:8080/"
        },
        "id": "mtW8Bf8RnYI6",
        "outputId": "5e792def-69a2-411b-b299-01cfaef7de50"
      },
      "execution_count": 10,
      "outputs": [
        {
          "output_type": "stream",
          "name": "stdout",
          "text": [
            "[{'label': 'ポジティブ', 'score': 0.9800318479537964}]\n",
            "[{'label': 'ネガティブ', 'score': 0.9910997748374939}]\n"
          ]
        }
      ]
    },
    {
      "cell_type": "markdown",
      "source": [
        "### 英文の感情分析"
      ],
      "metadata": {
        "id": "TtaWYzFZqdYq"
      }
    },
    {
      "cell_type": "code",
      "source": [
        "bert_model_en = \"finiteautomata/bertweet-base-sentiment-analysis\"\n",
        "analyzer_en = pipeline(model=bert_model_en)"
      ],
      "metadata": {
        "colab": {
          "base_uri": "https://localhost:8080/",
          "height": 67,
          "referenced_widgets": [
            "990de7d61d434064aa860b67eeddd26d",
            "b195b2649c7549b988104f779b3d4165",
            "ec47392bfba44e46a17ac8cd575e8706",
            "751fbcc9706a42b1ae0133dd54eaad80",
            "3becd02a1cbc494f9d862d0e8e68f15b",
            "a9ea20697f6d4edb90d1ccf89724d25c",
            "f49e75448176490b9f56d88e8f90f324",
            "01bb125d37624eac8db38ed0ac4f79a8",
            "fb007dc0de1b48be86464c14d3aee63d",
            "326fb71290674e3f8a7bea2947f986b5",
            "7d3606664f4b4069aae6cf9bba6bb25d"
          ]
        },
        "id": "aEQ9HWnrpzBo",
        "outputId": "646d6be5-024a-47a3-b1d1-9871b245ebd8"
      },
      "execution_count": 13,
      "outputs": [
        {
          "output_type": "display_data",
          "data": {
            "text/plain": [
              "Downloading:   0%|          | 0.00/0.99k [00:00<?, ?B/s]"
            ],
            "application/vnd.jupyter.widget-view+json": {
              "version_major": 2,
              "version_minor": 0,
              "model_id": "990de7d61d434064aa860b67eeddd26d"
            }
          },
          "metadata": {}
        },
        {
          "output_type": "stream",
          "name": "stderr",
          "text": [
            "emoji is not installed, thus not converting emoticons or emojis into text. Please install emoji: pip3 install emoji\n"
          ]
        }
      ]
    },
    {
      "cell_type": "code",
      "source": [
        "print(analyzer_en(\"Today's seminar is fun.\"))\n",
        "print(analyzer_en(\"I am sad since the teacher is not here.\"))"
      ],
      "metadata": {
        "colab": {
          "base_uri": "https://localhost:8080/"
        },
        "id": "wtMTKqQQqFTy",
        "outputId": "490fcb3b-f122-4fd4-df0e-1d365e582052"
      },
      "execution_count": 14,
      "outputs": [
        {
          "output_type": "stream",
          "name": "stdout",
          "text": [
            "[{'label': 'POS', 'score': 0.988452136516571}]\n",
            "[{'label': 'NEG', 'score': 0.9774743914604187}]\n"
          ]
        }
      ]
    }
  ]
}